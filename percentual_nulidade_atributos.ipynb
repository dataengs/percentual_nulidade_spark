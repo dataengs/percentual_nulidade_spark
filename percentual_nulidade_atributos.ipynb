{
  "nbformat": 4,
  "nbformat_minor": 0,
  "metadata": {
    "colab": {
      "name": "percentual_nulidade_atributos.ipynb",
      "provenance": [],
      "authorship_tag": "ABX9TyOdh9LNKPv6IURSdnyjiqKY",
      "include_colab_link": true
    },
    "kernelspec": {
      "name": "python3",
      "display_name": "Python 3"
    },
    "language_info": {
      "name": "python"
    }
  },
  "cells": [
    {
      "cell_type": "markdown",
      "metadata": {
        "id": "view-in-github",
        "colab_type": "text"
      },
      "source": [
        "<a href=\"https://colab.research.google.com/github/matsilvestre/percentual_nulidade_spark/blob/main/percentual_nulidade_atributos.ipynb\" target=\"_parent\"><img src=\"https://colab.research.google.com/assets/colab-badge.svg\" alt=\"Open In Colab\"/></a>"
      ]
    },
    {
      "cell_type": "markdown",
      "metadata": {
        "id": "RjUNJww3S2G1"
      },
      "source": [
        "- Instalando o pyspark\n"
      ]
    },
    {
      "cell_type": "code",
      "metadata": {
        "id": "4iWLhyoLS6fr"
      },
      "source": [
        "!pip install pyspark"
      ],
      "execution_count": null,
      "outputs": []
    },
    {
      "cell_type": "markdown",
      "metadata": {
        "id": "wlt0SkKFTLmz"
      },
      "source": [
        "- Importando as bibliotecas"
      ]
    },
    {
      "cell_type": "code",
      "metadata": {
        "id": "1hti_g37TOMQ"
      },
      "source": [
        "from google.colab import drive\n",
        "from pyspark.sql import SparkSession\n",
        "from pyspark.sql import functions  as F\n",
        "from pyspark.sql.types import *"
      ],
      "execution_count": null,
      "outputs": []
    },
    {
      "cell_type": "markdown",
      "metadata": {
        "id": "jpIn5I62TSEp"
      },
      "source": [
        "- Configurando Google Drive"
      ]
    },
    {
      "cell_type": "code",
      "metadata": {
        "colab": {
          "base_uri": "https://localhost:8080/"
        },
        "id": "2uRlpDl6TUCc",
        "outputId": "6d8cd286-81c8-45c6-f00c-fefa0a2db012"
      },
      "source": [
        "drive.mount('/content/drive')"
      ],
      "execution_count": null,
      "outputs": [
        {
          "output_type": "stream",
          "text": [
            "Mounted at /content/drive\n"
          ],
          "name": "stdout"
        }
      ]
    },
    {
      "cell_type": "markdown",
      "metadata": {
        "id": "mBW4TDhWTqH3"
      },
      "source": [
        "- Criando Sessão Spark"
      ]
    },
    {
      "cell_type": "code",
      "metadata": {
        "id": "Q64ka0LUTpmH"
      },
      "source": [
        "spark = SparkSession.builder.appName('PERCENTUAL_NULIDADE').getOrCreate()"
      ],
      "execution_count": null,
      "outputs": []
    },
    {
      "cell_type": "markdown",
      "metadata": {
        "id": "Qcm7zBSgTzv0"
      },
      "source": [
        "- Realizando a leitura do arquivo do google drive. Informar o diretório do google drive onde você salvou o arquivo de marketing campaign. Neste exemplo o diretório é: '/content/drive/My Drive/cafe_c_codigo_01/marketing_campaign.csv'"
      ]
    },
    {
      "cell_type": "code",
      "metadata": {
        "id": "L1NTP9p2T4YX"
      },
      "source": [
        "df = spark.read.csv('/content/drive/My Drive/cafe_c_codigo_01/marketing_campaign.csv', header = True, sep=';')"
      ],
      "execution_count": null,
      "outputs": []
    },
    {
      "cell_type": "code",
      "metadata": {
        "colab": {
          "base_uri": "https://localhost:8080/"
        },
        "id": "3Y3gMktDViEC",
        "outputId": "1c5fa1cf-fb55-4f93-ca44-82a3716c6d54"
      },
      "source": [
        "df.show(1, vertical = True, truncate = True)"
      ],
      "execution_count": null,
      "outputs": [
        {
          "output_type": "stream",
          "text": [
            "-RECORD 0-------------------------\n",
            " ID                  | 5524       \n",
            " Year_Birth          | 1957       \n",
            " Education           | Graduation \n",
            " Marital_Status      | Single     \n",
            " Income              | 58138      \n",
            " Kidhome             | 0          \n",
            " Teenhome            | 0          \n",
            " Dt_Customer         | 2012-09-04 \n",
            " Recency             | 58         \n",
            " MntWines            | 635        \n",
            " MntFruits           | 88         \n",
            " MntMeatProducts     | 546        \n",
            " MntFishProducts     | 172        \n",
            " MntSweetProducts    | 88         \n",
            " MntGoldProds        | 88         \n",
            " NumDealsPurchases   | 3          \n",
            " NumWebPurchases     | 8          \n",
            " NumCatalogPurchases | 10         \n",
            " NumStorePurchases   | 4          \n",
            " NumWebVisitsMonth   | 7          \n",
            " AcceptedCmp3        | 0          \n",
            " AcceptedCmp4        | 0          \n",
            " AcceptedCmp5        | 0          \n",
            " AcceptedCmp1        | 0          \n",
            " AcceptedCmp2        | 0          \n",
            " Complain            | 0          \n",
            " Z_CostContact       | 3          \n",
            " Z_Revenue           | 11         \n",
            " Response            | 1          \n",
            "only showing top 1 row\n",
            "\n"
          ],
          "name": "stdout"
        }
      ]
    },
    {
      "cell_type": "markdown",
      "metadata": {
        "id": "aY0ek--pV1Em"
      },
      "source": [
        "- Verificando quais atributos tem valores nulos"
      ]
    },
    {
      "cell_type": "code",
      "metadata": {
        "colab": {
          "base_uri": "https://localhost:8080/"
        },
        "id": "CPdJCnB3V0El",
        "outputId": "b8132478-8f90-44f5-9187-aebb52ce06eb"
      },
      "source": [
        "df.select(*(F.sum(F.col(c).isNull().cast(\"int\")).alias(c) for c in df.columns)).show(vertical = True)"
      ],
      "execution_count": null,
      "outputs": [
        {
          "output_type": "stream",
          "text": [
            "-RECORD 0------------------\n",
            " ID                  | 0   \n",
            " Year_Birth          | 0   \n",
            " Education           | 0   \n",
            " Marital_Status      | 0   \n",
            " Income              | 24  \n",
            " Kidhome             | 0   \n",
            " Teenhome            | 0   \n",
            " Dt_Customer         | 0   \n",
            " Recency             | 0   \n",
            " MntWines            | 0   \n",
            " MntFruits           | 0   \n",
            " MntMeatProducts     | 0   \n",
            " MntFishProducts     | 0   \n",
            " MntSweetProducts    | 0   \n",
            " MntGoldProds        | 0   \n",
            " NumDealsPurchases   | 0   \n",
            " NumWebPurchases     | 0   \n",
            " NumCatalogPurchases | 0   \n",
            " NumStorePurchases   | 0   \n",
            " NumWebVisitsMonth   | 0   \n",
            " AcceptedCmp3        | 0   \n",
            " AcceptedCmp4        | 0   \n",
            " AcceptedCmp5        | 0   \n",
            " AcceptedCmp1        | 0   \n",
            " AcceptedCmp2        | 0   \n",
            " Complain            | 0   \n",
            " Z_CostContact       | 0   \n",
            " Z_Revenue           | 0   \n",
            " Response            | 0   \n",
            "\n"
          ],
          "name": "stdout"
        }
      ]
    },
    {
      "cell_type": "markdown",
      "metadata": {
        "id": "4V5dr9w-V6qO"
      },
      "source": [
        "Somente o atributo Income contém valores nulos com total de 24 registros"
      ]
    },
    {
      "cell_type": "markdown",
      "metadata": {
        "id": "F1pUy_wJVj8s"
      },
      "source": [
        "- Calculo do percentual da nulidade dos campos do resultado da query SQL usando list comprehension"
      ]
    },
    {
      "cell_type": "code",
      "metadata": {
        "colab": {
          "base_uri": "https://localhost:8080/"
        },
        "id": "kO0t8wd6Vo2K",
        "outputId": "29d2ca31-b540-4920-cb39-f51a48bd9efb"
      },
      "source": [
        "df.select(*(F.round(((F.sum(F.col(c).isNull().cast(\"int\"))/df.count())*100),2).alias(c) for c in df.columns)).show(vertical = True)"
      ],
      "execution_count": null,
      "outputs": [
        {
          "output_type": "stream",
          "text": [
            "-RECORD 0-------------------\n",
            " ID                  | 0.0  \n",
            " Year_Birth          | 0.0  \n",
            " Education           | 0.0  \n",
            " Marital_Status      | 0.0  \n",
            " Income              | 1.07 \n",
            " Kidhome             | 0.0  \n",
            " Teenhome            | 0.0  \n",
            " Dt_Customer         | 0.0  \n",
            " Recency             | 0.0  \n",
            " MntWines            | 0.0  \n",
            " MntFruits           | 0.0  \n",
            " MntMeatProducts     | 0.0  \n",
            " MntFishProducts     | 0.0  \n",
            " MntSweetProducts    | 0.0  \n",
            " MntGoldProds        | 0.0  \n",
            " NumDealsPurchases   | 0.0  \n",
            " NumWebPurchases     | 0.0  \n",
            " NumCatalogPurchases | 0.0  \n",
            " NumStorePurchases   | 0.0  \n",
            " NumWebVisitsMonth   | 0.0  \n",
            " AcceptedCmp3        | 0.0  \n",
            " AcceptedCmp4        | 0.0  \n",
            " AcceptedCmp5        | 0.0  \n",
            " AcceptedCmp1        | 0.0  \n",
            " AcceptedCmp2        | 0.0  \n",
            " Complain            | 0.0  \n",
            " Z_CostContact       | 0.0  \n",
            " Z_Revenue           | 0.0  \n",
            " Response            | 0.0  \n",
            "\n"
          ],
          "name": "stdout"
        }
      ]
    },
    {
      "cell_type": "markdown",
      "metadata": {
        "id": "nSaBdMqyVwNz"
      },
      "source": [
        "O atributo Income contém um percentual de nulidade de 1.07%"
      ]
    }
  ]
}